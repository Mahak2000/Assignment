{
 "cells": [
  {
   "cell_type": "code",
   "execution_count": 1,
   "id": "2202614b",
   "metadata": {},
   "outputs": [],
   "source": [
    "#Question 1\n",
    "\n",
    "d= {}"
   ]
  },
  {
   "cell_type": "code",
   "execution_count": 2,
   "id": "e6f86a47",
   "metadata": {},
   "outputs": [],
   "source": [
    "#Question 2\n",
    "d = {'foo': 42}\n"
   ]
  },
  {
   "cell_type": "code",
   "execution_count": 3,
   "id": "047fbcd8",
   "metadata": {},
   "outputs": [
    {
     "data": {
      "text/plain": [
       "42"
      ]
     },
     "execution_count": 3,
     "metadata": {},
     "output_type": "execute_result"
    }
   ],
   "source": [
    "d['foo']"
   ]
  },
  {
   "cell_type": "markdown",
   "id": "04d45da2",
   "metadata": {},
   "source": [
    "Question 3\n",
    "\n",
    "We use [] brackets to indicate it as a list whereas in a dictionary we use {}.\n",
    "\n",
    "Elements in a dictionary are accessed using keys. Instead of indices, we use keys to retrieve the corresponding values. For example, my_dict['key'] in list we use indices. "
   ]
  },
  {
   "cell_type": "code",
   "execution_count": 4,
   "id": "7dad4b64",
   "metadata": {},
   "outputs": [],
   "source": [
    "#Question 4\n",
    "\n",
    "spam= {'bar': 100}"
   ]
  },
  {
   "cell_type": "code",
   "execution_count": 5,
   "id": "024db8d6",
   "metadata": {},
   "outputs": [
    {
     "ename": "KeyError",
     "evalue": "'foo'",
     "output_type": "error",
     "traceback": [
      "\u001b[1;31m---------------------------------------------------------------------------\u001b[0m",
      "\u001b[1;31mKeyError\u001b[0m                                  Traceback (most recent call last)",
      "Cell \u001b[1;32mIn[5], line 1\u001b[0m\n\u001b[1;32m----> 1\u001b[0m \u001b[43mspam\u001b[49m\u001b[43m[\u001b[49m\u001b[38;5;124;43m'\u001b[39;49m\u001b[38;5;124;43mfoo\u001b[39;49m\u001b[38;5;124;43m'\u001b[39;49m\u001b[43m]\u001b[49m\n",
      "\u001b[1;31mKeyError\u001b[0m: 'foo'"
     ]
    }
   ],
   "source": [
    "spam['foo']"
   ]
  },
  {
   "cell_type": "code",
   "execution_count": 6,
   "id": "52e4cab6",
   "metadata": {},
   "outputs": [
    {
     "name": "stdout",
     "output_type": "stream",
     "text": [
      "True\n",
      "True\n"
     ]
    }
   ],
   "source": [
    "#Question 5\n",
    "\n",
    "spam = {'cat': 5, 'dog': 3}\n",
    "print('cat' in spam)  \n",
    "print('cat' in spam.keys())\n",
    "\n",
    "# both expressions check for the presence of a key within a dictionary, but the second expression explicitly uses the keys() method to obtain the keys before performing the membership check"
   ]
  },
  {
   "cell_type": "code",
   "execution_count": 11,
   "id": "90d52d2f",
   "metadata": {},
   "outputs": [
    {
     "name": "stdout",
     "output_type": "stream",
     "text": [
      "False\n",
      "True\n"
     ]
    }
   ],
   "source": [
    "#Question 6\n",
    "\n",
    "spam = {5:'cat', 'dog': 3}\n",
    "print('cat' in spam)  \n",
    "print('cat' in spam.values())\n"
   ]
  },
  {
   "cell_type": "code",
   "execution_count": 12,
   "id": "0f73c909",
   "metadata": {},
   "outputs": [
    {
     "data": {
      "text/plain": [
       "{5: 'cat', 'dog': 3}"
      ]
     },
     "execution_count": 12,
     "metadata": {},
     "output_type": "execute_result"
    }
   ],
   "source": [
    "#Question 7\n",
    "\n",
    "spam"
   ]
  },
  {
   "cell_type": "code",
   "execution_count": 13,
   "id": "b7a6ed7b",
   "metadata": {},
   "outputs": [
    {
     "data": {
      "text/plain": [
       "'black'"
      ]
     },
     "execution_count": 13,
     "metadata": {},
     "output_type": "execute_result"
    }
   ],
   "source": [
    "spam.setdefault('colour', 'black' )"
   ]
  },
  {
   "cell_type": "code",
   "execution_count": 14,
   "id": "ec92bd7f",
   "metadata": {},
   "outputs": [
    {
     "data": {
      "text/plain": [
       "{5: 'cat', 'dog': 3, 'colour': 'black'}"
      ]
     },
     "execution_count": 14,
     "metadata": {},
     "output_type": "execute_result"
    }
   ],
   "source": [
    "spam"
   ]
  },
  {
   "cell_type": "markdown",
   "id": "e851f0b0",
   "metadata": {},
   "source": [
    "Question 8\n",
    "\n",
    "We pretty print using pprint function"
   ]
  },
  {
   "cell_type": "code",
   "execution_count": 17,
   "id": "ed2165e1",
   "metadata": {},
   "outputs": [
    {
     "name": "stdout",
     "output_type": "stream",
     "text": [
      "{5: 'cat', 'colour': 'black', 'dog': 3}\n"
     ]
    }
   ],
   "source": [
    "import pprint\n",
    "\n",
    "pprint.pprint(spam)"
   ]
  },
  {
   "cell_type": "code",
   "execution_count": null,
   "id": "494abcb8",
   "metadata": {},
   "outputs": [],
   "source": []
  },
  {
   "cell_type": "code",
   "execution_count": null,
   "id": "ad521f82",
   "metadata": {},
   "outputs": [],
   "source": []
  }
 ],
 "metadata": {
  "kernelspec": {
   "display_name": "Python 3 (ipykernel)",
   "language": "python",
   "name": "python3"
  },
  "language_info": {
   "codemirror_mode": {
    "name": "ipython",
    "version": 3
   },
   "file_extension": ".py",
   "mimetype": "text/x-python",
   "name": "python",
   "nbconvert_exporter": "python",
   "pygments_lexer": "ipython3",
   "version": "3.10.9"
  }
 },
 "nbformat": 4,
 "nbformat_minor": 5
}
