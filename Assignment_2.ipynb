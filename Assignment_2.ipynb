{
 "cells": [
  {
   "cell_type": "markdown",
   "id": "3e7bf0f1",
   "metadata": {},
   "source": [
    "Question 1\n",
    "\n",
    "Two values are True and False"
   ]
  },
  {
   "cell_type": "code",
   "execution_count": null,
   "id": "5c81eae3",
   "metadata": {},
   "outputs": [],
   "source": [
    "True \n",
    "False"
   ]
  },
  {
   "cell_type": "markdown",
   "id": "90604a4d",
   "metadata": {},
   "source": [
    "Question 2\n",
    "\n",
    "Three different types of boolean operator are and , or , not"
   ]
  },
  {
   "cell_type": "markdown",
   "id": "76384df2",
   "metadata": {},
   "source": [
    "Question 3\n",
    "\n",
    "and table:-\n",
    "\n",
    "false | false | false\n",
    "false | true | false\n",
    "true | false | false\n",
    "true | true | true\n",
    "\n",
    "\n",
    "or table:-\n",
    "\n",
    "false | false | false\n",
    "false | true | true\n",
    "true | false | true\n",
    "true | true | true\n",
    "\n",
    "not table:-\n",
    "false | true\n",
    "true | false\n",
    "\n"
   ]
  },
  {
   "cell_type": "code",
   "execution_count": 3,
   "id": "713e5a79",
   "metadata": {},
   "outputs": [
    {
     "data": {
      "text/plain": [
       "False"
      ]
     },
     "execution_count": 3,
     "metadata": {},
     "output_type": "execute_result"
    }
   ],
   "source": [
    "#Question 4\n",
    "\n",
    "(5 > 4) and (3 == 5)"
   ]
  },
  {
   "cell_type": "code",
   "execution_count": 4,
   "id": "f4347c87",
   "metadata": {},
   "outputs": [
    {
     "data": {
      "text/plain": [
       "False"
      ]
     },
     "execution_count": 4,
     "metadata": {},
     "output_type": "execute_result"
    }
   ],
   "source": [
    "not (5> 4)"
   ]
  },
  {
   "cell_type": "code",
   "execution_count": 5,
   "id": "48cab9a8",
   "metadata": {},
   "outputs": [
    {
     "data": {
      "text/plain": [
       "True"
      ]
     },
     "execution_count": 5,
     "metadata": {},
     "output_type": "execute_result"
    }
   ],
   "source": [
    "(5 > 4) or (3 == 5)"
   ]
  },
  {
   "cell_type": "code",
   "execution_count": 6,
   "id": "78a1d6d2",
   "metadata": {},
   "outputs": [
    {
     "data": {
      "text/plain": [
       "False"
      ]
     },
     "execution_count": 6,
     "metadata": {},
     "output_type": "execute_result"
    }
   ],
   "source": [
    "not ((5 > 4) or (3 == 5))"
   ]
  },
  {
   "cell_type": "code",
   "execution_count": 7,
   "id": "5567fa88",
   "metadata": {},
   "outputs": [
    {
     "data": {
      "text/plain": [
       "False"
      ]
     },
     "execution_count": 7,
     "metadata": {},
     "output_type": "execute_result"
    }
   ],
   "source": [
    "(True and True) and (True == False)"
   ]
  },
  {
   "cell_type": "code",
   "execution_count": 8,
   "id": "689c9f5b",
   "metadata": {},
   "outputs": [
    {
     "data": {
      "text/plain": [
       "True"
      ]
     },
     "execution_count": 8,
     "metadata": {},
     "output_type": "execute_result"
    }
   ],
   "source": [
    "(not False) or (not True)"
   ]
  },
  {
   "cell_type": "markdown",
   "id": "bba52b26",
   "metadata": {},
   "source": [
    "Question 5\n",
    "\n",
    "Comparison operator:-\n",
    "\n",
    "==\n",
    "!=\n",
    "<\n",
    ">\n",
    "<=\n",
    ">=\n"
   ]
  },
  {
   "cell_type": "markdown",
   "id": "cd87cb9a",
   "metadata": {},
   "source": [
    "Question 6\n",
    "\n",
    "Equal-to operator (==): The equal-to operator is used to compare two values and check if they are equal. It returns a boolean value of True if the values are equal, and False otherwise.\n",
    "\n",
    "Assignment operator (=): The assignment operator is used to assign a value to a variable. It assigns the value on the right side of the operator to the variable on the left side."
   ]
  },
  {
   "cell_type": "code",
   "execution_count": 11,
   "id": "8c86f66f",
   "metadata": {},
   "outputs": [
    {
     "name": "stdout",
     "output_type": "stream",
     "text": [
      "ham\n",
      "spam\n",
      "spam\n"
     ]
    }
   ],
   "source": [
    "#Question 7\n",
    "\n",
    "spam = 0\n",
    "if spam == 10:\n",
    "    print('egg')\n",
    "if spam > 5:\n",
    "    print('bacon')\n",
    "else:\n",
    "    print('ham')\n",
    "    print('spam')\n",
    "    print('spam')"
   ]
  },
  {
   "cell_type": "code",
   "execution_count": 12,
   "id": "a4d213fd",
   "metadata": {},
   "outputs": [
    {
     "name": "stdout",
     "output_type": "stream",
     "text": [
      "Enter a number: 3\n",
      "Greetings\n"
     ]
    }
   ],
   "source": [
    "#Question 8\n",
    "\n",
    "spam= input('Enter a number: ')\n",
    "\n",
    "if spam == 1:\n",
    "    print('Hello')\n",
    "if spam ==2:\n",
    "    print('Howdy')\n",
    "else:\n",
    "    print(\"Greetings\")\n"
   ]
  },
  {
   "cell_type": "markdown",
   "id": "ea0afb16",
   "metadata": {},
   "source": [
    "Question 9\n",
    "\n",
    "We can press ctrl+c to interrupt the kernal to stop the loop."
   ]
  },
  {
   "cell_type": "code",
   "execution_count": 14,
   "id": "1cf6c32e",
   "metadata": {},
   "outputs": [
    {
     "name": "stdout",
     "output_type": "stream",
     "text": [
      "1\n",
      "23\n",
      "42\n"
     ]
    }
   ],
   "source": [
    "#Question 10\n",
    "\n",
    "l= [1,23,42, 'hot', 20]\n",
    "\n",
    "for i in l:\n",
    "    if type(i)== str:\n",
    "        break\n",
    "    print(i)  "
   ]
  },
  {
   "cell_type": "code",
   "execution_count": 17,
   "id": "3b867c1e",
   "metadata": {},
   "outputs": [
    {
     "name": "stdout",
     "output_type": "stream",
     "text": [
      "1\n",
      "42\n",
      "hot\n",
      "20\n"
     ]
    }
   ],
   "source": [
    "for i in l:\n",
    "    if i== 23:\n",
    "        continue\n",
    "    print(i)  "
   ]
  },
  {
   "cell_type": "code",
   "execution_count": 18,
   "id": "835668d1",
   "metadata": {},
   "outputs": [
    {
     "name": "stdout",
     "output_type": "stream",
     "text": [
      "0\n",
      "1\n",
      "2\n",
      "3\n",
      "4\n",
      "5\n",
      "6\n",
      "7\n",
      "8\n",
      "9\n"
     ]
    }
   ],
   "source": [
    "#Question 11\n",
    "\n",
    "for i in range(10):\n",
    "    print(i)"
   ]
  },
  {
   "cell_type": "code",
   "execution_count": 19,
   "id": "f211809f",
   "metadata": {},
   "outputs": [
    {
     "name": "stdout",
     "output_type": "stream",
     "text": [
      "0\n",
      "1\n",
      "2\n",
      "3\n",
      "4\n",
      "5\n",
      "6\n",
      "7\n",
      "8\n",
      "9\n"
     ]
    }
   ],
   "source": [
    "for i in range(0,10):\n",
    "    print(i)"
   ]
  },
  {
   "cell_type": "code",
   "execution_count": 20,
   "id": "dcfee9fb",
   "metadata": {},
   "outputs": [
    {
     "name": "stdout",
     "output_type": "stream",
     "text": [
      "0\n",
      "1\n",
      "2\n",
      "3\n",
      "4\n",
      "5\n",
      "6\n",
      "7\n",
      "8\n",
      "9\n"
     ]
    }
   ],
   "source": [
    "for i in range(0,10,1):\n",
    "    print(i)\n",
    "    \n",
    "    \n",
    "#All three forms generate the same sequence of values and result in the same iteration. The start value of 0 and the default step value of 1 are implied when they are omitted.    "
   ]
  },
  {
   "cell_type": "code",
   "execution_count": 22,
   "id": "9fc643b5",
   "metadata": {},
   "outputs": [
    {
     "name": "stdout",
     "output_type": "stream",
     "text": [
      "0\n",
      "1\n",
      "2\n",
      "3\n",
      "4\n",
      "5\n",
      "6\n",
      "7\n",
      "8\n",
      "9\n",
      "10\n"
     ]
    }
   ],
   "source": [
    "#Question 12\n",
    "\n",
    "for i in range(11):\n",
    "    print(i)"
   ]
  },
  {
   "cell_type": "code",
   "execution_count": 24,
   "id": "98da6703",
   "metadata": {},
   "outputs": [
    {
     "name": "stdout",
     "output_type": "stream",
     "text": [
      "1\n",
      "2\n",
      "3\n",
      "4\n",
      "5\n",
      "6\n",
      "7\n",
      "8\n",
      "9\n",
      "10\n"
     ]
    }
   ],
   "source": [
    "a,b= 1 , 11\n",
    "\n",
    "while a<b:\n",
    "    print(a)\n",
    "    a = a+1"
   ]
  },
  {
   "cell_type": "code",
   "execution_count": 26,
   "id": "570661bf",
   "metadata": {},
   "outputs": [],
   "source": [
    "#Question 13\n",
    "\n",
    "import spam \n",
    "\n",
    "spam.bacon()"
   ]
  },
  {
   "cell_type": "code",
   "execution_count": null,
   "id": "9f7d5ab5",
   "metadata": {},
   "outputs": [],
   "source": []
  }
 ],
 "metadata": {
  "kernelspec": {
   "display_name": "Python 3 (ipykernel)",
   "language": "python",
   "name": "python3"
  },
  "language_info": {
   "codemirror_mode": {
    "name": "ipython",
    "version": 3
   },
   "file_extension": ".py",
   "mimetype": "text/x-python",
   "name": "python",
   "nbconvert_exporter": "python",
   "pygments_lexer": "ipython3",
   "version": "3.10.9"
  }
 },
 "nbformat": 4,
 "nbformat_minor": 5
}
