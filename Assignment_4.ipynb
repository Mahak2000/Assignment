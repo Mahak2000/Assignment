{
 "cells": [
  {
   "cell_type": "markdown",
   "id": "05fdcdbc",
   "metadata": {},
   "source": [
    "Question 1\n",
    "\n",
    "[] this is a bracket used to store list values in it."
   ]
  },
  {
   "cell_type": "code",
   "execution_count": 1,
   "id": "3cf80e22",
   "metadata": {},
   "outputs": [],
   "source": [
    "#Question 2\n",
    "\n",
    "spam =[2, 4, 6, 8, 10]\n",
    "spam[2] = 'Hello'"
   ]
  },
  {
   "cell_type": "code",
   "execution_count": 2,
   "id": "804ca518",
   "metadata": {},
   "outputs": [
    {
     "data": {
      "text/plain": [
       "[2, 4, 'Hello', 8, 10]"
      ]
     },
     "execution_count": 2,
     "metadata": {},
     "output_type": "execute_result"
    }
   ],
   "source": [
    "spam"
   ]
  },
  {
   "cell_type": "code",
   "execution_count": 3,
   "id": "71782995",
   "metadata": {},
   "outputs": [
    {
     "data": {
      "text/plain": [
       "'d'"
      ]
     },
     "execution_count": 3,
     "metadata": {},
     "output_type": "execute_result"
    }
   ],
   "source": [
    "#Question 3\n",
    "\n",
    "spam = ['a','b' , 'c' , 'd']\n",
    "\n",
    "spam[int(int('3'*2)/11)]"
   ]
  },
  {
   "cell_type": "code",
   "execution_count": 4,
   "id": "29cdc891",
   "metadata": {},
   "outputs": [
    {
     "data": {
      "text/plain": [
       "'d'"
      ]
     },
     "execution_count": 4,
     "metadata": {},
     "output_type": "execute_result"
    }
   ],
   "source": [
    "#Question 4\n",
    "\n",
    "spam[-1]"
   ]
  },
  {
   "cell_type": "code",
   "execution_count": 5,
   "id": "7adf15dc",
   "metadata": {},
   "outputs": [
    {
     "data": {
      "text/plain": [
       "['a', 'b']"
      ]
     },
     "execution_count": 5,
     "metadata": {},
     "output_type": "execute_result"
    }
   ],
   "source": [
    "#Question 5\n",
    "\n",
    "spam[:2]"
   ]
  },
  {
   "cell_type": "code",
   "execution_count": 6,
   "id": "829516e1",
   "metadata": {},
   "outputs": [],
   "source": [
    "#Question 6\n",
    "\n",
    "bacon= [3.14, 'cat' , 11, 'cat' , True]\n",
    "\n"
   ]
  },
  {
   "cell_type": "code",
   "execution_count": 7,
   "id": "6d7bd402",
   "metadata": {},
   "outputs": [
    {
     "data": {
      "text/plain": [
       "1"
      ]
     },
     "execution_count": 7,
     "metadata": {},
     "output_type": "execute_result"
    }
   ],
   "source": [
    "bacon.index('cat')\n"
   ]
  },
  {
   "cell_type": "code",
   "execution_count": 8,
   "id": "6e7aa6dd",
   "metadata": {},
   "outputs": [],
   "source": [
    "#Question 7\n",
    "\n",
    "bacon.append(99)"
   ]
  },
  {
   "cell_type": "code",
   "execution_count": 9,
   "id": "f2106da0",
   "metadata": {},
   "outputs": [
    {
     "data": {
      "text/plain": [
       "[3.14, 'cat', 11, 'cat', True, 99]"
      ]
     },
     "execution_count": 9,
     "metadata": {},
     "output_type": "execute_result"
    }
   ],
   "source": [
    "bacon #it adds the value at the end of the list"
   ]
  },
  {
   "cell_type": "code",
   "execution_count": 10,
   "id": "6823bd24",
   "metadata": {},
   "outputs": [],
   "source": [
    "#Question 8\n",
    "\n",
    "bacon.remove('cat')"
   ]
  },
  {
   "cell_type": "code",
   "execution_count": 11,
   "id": "5ff34085",
   "metadata": {},
   "outputs": [
    {
     "data": {
      "text/plain": [
       "[3.14, 11, 'cat', True, 99]"
      ]
     },
     "execution_count": 11,
     "metadata": {},
     "output_type": "execute_result"
    }
   ],
   "source": [
    "bacon"
   ]
  },
  {
   "cell_type": "markdown",
   "id": "70860f9a",
   "metadata": {},
   "source": [
    "Question 9\n",
    "\n",
    " The list concatenation operator is '+' and the list replication operator is '*' \n",
    " "
   ]
  },
  {
   "cell_type": "code",
   "execution_count": 12,
   "id": "163ed3c0",
   "metadata": {},
   "outputs": [],
   "source": [
    "#Question 10\n",
    "\n",
    "l =[1,23,34,2,3]"
   ]
  },
  {
   "cell_type": "code",
   "execution_count": 13,
   "id": "ab2c2320",
   "metadata": {},
   "outputs": [],
   "source": [
    "l.append([3,4,5])"
   ]
  },
  {
   "cell_type": "code",
   "execution_count": 14,
   "id": "4593690e",
   "metadata": {},
   "outputs": [
    {
     "data": {
      "text/plain": [
       "[1, 23, 34, 2, 3, [3, 4, 5]]"
      ]
     },
     "execution_count": 14,
     "metadata": {},
     "output_type": "execute_result"
    }
   ],
   "source": [
    "l"
   ]
  },
  {
   "cell_type": "code",
   "execution_count": 15,
   "id": "f47afe9f",
   "metadata": {},
   "outputs": [],
   "source": [
    "l.insert(4,(76,47))"
   ]
  },
  {
   "cell_type": "code",
   "execution_count": 16,
   "id": "e178783c",
   "metadata": {},
   "outputs": [
    {
     "data": {
      "text/plain": [
       "[1, 23, 34, 2, (76, 47), 3, [3, 4, 5]]"
      ]
     },
     "execution_count": 16,
     "metadata": {},
     "output_type": "execute_result"
    }
   ],
   "source": [
    "l"
   ]
  },
  {
   "cell_type": "markdown",
   "id": "0d114d65",
   "metadata": {},
   "source": [
    "The append() method adds an element to the end of a list, while the insert() method allows you to specify the position at which to insert an element in a list."
   ]
  },
  {
   "cell_type": "markdown",
   "id": "bbe5df0d",
   "metadata": {},
   "source": [
    "Question 11\n",
    "\n",
    "pop and remove method is used to remove the value from the list."
   ]
  },
  {
   "cell_type": "markdown",
   "id": "f546d0e8",
   "metadata": {},
   "source": [
    "Question 12\n",
    "\n",
    "1  Both lists and strings support indexing, which allows accessing individual elements by their position. \n",
    "2 Lists and strings can be sliced to extract a portion of the sequence.\n",
    "3 Yhey both support the len() function to get the length of a list or a string."
   ]
  },
  {
   "cell_type": "markdown",
   "id": "33307ad1",
   "metadata": {},
   "source": [
    "Question 13\n",
    "\n",
    "1 tuples are immutable where as list are mutable.\n",
    "2 Tuples are defined using parentheses () or without any delimiters, separating elements with commas. For example: (1, 2, 3) or 1, 2, 3. Lists, on the other hand, are defined using square brackets []. For example: [1, 2, 3]"
   ]
  },
  {
   "cell_type": "code",
   "execution_count": 17,
   "id": "e2392b86",
   "metadata": {},
   "outputs": [],
   "source": [
    "#Question 14\n",
    "\n",
    "a =(42)\n",
    "\n",
    "#this is how we represent a tuple"
   ]
  },
  {
   "cell_type": "code",
   "execution_count": 18,
   "id": "844fa18c",
   "metadata": {},
   "outputs": [],
   "source": [
    "#Question 15\n",
    "\n",
    "m = [1,2,3,4]"
   ]
  },
  {
   "cell_type": "code",
   "execution_count": 19,
   "id": "c1b018c6",
   "metadata": {},
   "outputs": [
    {
     "data": {
      "text/plain": [
       "(1, 2, 3, 4)"
      ]
     },
     "execution_count": 19,
     "metadata": {},
     "output_type": "execute_result"
    }
   ],
   "source": [
    "tuple(m)"
   ]
  },
  {
   "cell_type": "code",
   "execution_count": 21,
   "id": "59211a4c",
   "metadata": {},
   "outputs": [],
   "source": [
    "t =(23,45,65,'hot')"
   ]
  },
  {
   "cell_type": "code",
   "execution_count": 22,
   "id": "a86535cd",
   "metadata": {},
   "outputs": [
    {
     "data": {
      "text/plain": [
       "[23, 45, 65, 'hot']"
      ]
     },
     "execution_count": 22,
     "metadata": {},
     "output_type": "execute_result"
    }
   ],
   "source": [
    "list(t)"
   ]
  },
  {
   "cell_type": "markdown",
   "id": "bb9115f3",
   "metadata": {},
   "source": [
    "Question 16\n",
    "\n",
    "Variables containing list values actually hold references to list objects helps to clarify concepts like aliasing, mutability, and the behavior of list operations in Python."
   ]
  },
  {
   "cell_type": "code",
   "execution_count": 23,
   "id": "7e901eb7",
   "metadata": {},
   "outputs": [
    {
     "name": "stdout",
     "output_type": "stream",
     "text": [
      "[10, [2, 3, 4], 4]\n",
      "[1, [2, 3, 4], 4]\n"
     ]
    }
   ],
   "source": [
    "#Question 17\n",
    "\n",
    "import copy\n",
    "\n",
    "original_list = [1, [2, 3], 4]\n",
    "copied_list = copy.copy(original_list)\n",
    "\n",
    "original_list[0] = 10\n",
    "original_list[1].append(4)\n",
    "\n",
    "print(original_list) \n",
    "print(copied_list)    \n"
   ]
  },
  {
   "cell_type": "code",
   "execution_count": 24,
   "id": "b450ce71",
   "metadata": {},
   "outputs": [
    {
     "name": "stdout",
     "output_type": "stream",
     "text": [
      "[10, [2, 3, 4], 4]\n",
      "[1, [2, 3], 4]\n"
     ]
    }
   ],
   "source": [
    "import copy\n",
    "\n",
    "original_list = [1, [2, 3], 4]\n",
    "deepcopied_list = copy.deepcopy(original_list)\n",
    "\n",
    "original_list[0] = 10\n",
    "original_list[1].append(4)\n",
    "\n",
    "print(original_list)     \n",
    "print(deepcopied_list)   \n"
   ]
  },
  {
   "cell_type": "markdown",
   "id": "a2a0e39c",
   "metadata": {},
   "source": [
    "copy.deepcopy(original_list) creates a deep copy of original_list named deepcopied_list. Modifying the elements of original_list does not affect the corresponding elements in deepcopied_list. Whereas in the elements of original_list also affects the corresponding elements in copied_list. "
   ]
  }
 ],
 "metadata": {
  "kernelspec": {
   "display_name": "Python 3 (ipykernel)",
   "language": "python",
   "name": "python3"
  },
  "language_info": {
   "codemirror_mode": {
    "name": "ipython",
    "version": 3
   },
   "file_extension": ".py",
   "mimetype": "text/x-python",
   "name": "python",
   "nbconvert_exporter": "python",
   "pygments_lexer": "ipython3",
   "version": "3.10.9"
  }
 },
 "nbformat": 4,
 "nbformat_minor": 5
}
