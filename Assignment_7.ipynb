{
 "cells": [
  {
   "cell_type": "code",
   "execution_count": 3,
   "id": "61b04809",
   "metadata": {},
   "outputs": [
    {
     "name": "stdout",
     "output_type": "stream",
     "text": [
      "First variable is 10 & second variable is 5\n",
      "Addition: 10 +5 = 15\n",
      "Subtraction: 10 - 5 = 5\n",
      "Multiplication: 10 * 5 = 50\n",
      "Division: 10 /5 = 2.0\n"
     ]
    }
   ],
   "source": [
    "#Question 1\n",
    "a = 10\n",
    "b = 5\n",
    "\n",
    "c= a+b\n",
    "d =a-b\n",
    "e =a*b\n",
    "f =a/b\n",
    "print(f\"First variable is {a} & second variable is {b}\")\n",
    "print(f\"Addition: {a} +{b} = {c}\")\n",
    "print(f\"Subtraction: {a} - {b} = {d}\")\n",
    "print(f\"Multiplication: {a} * {b} = {e}\")\n",
    "print(f\"Division: {a} /{b} = {f}\")\n",
    "\n",
    "      "
   ]
  },
  {
   "cell_type": "code",
   "execution_count": 15,
   "id": "f87c804d",
   "metadata": {},
   "outputs": [
    {
     "name": "stdout",
     "output_type": "stream",
     "text": [
      "2.5\n"
     ]
    }
   ],
   "source": [
    "#Question 2\n",
    "\n",
    "#The'/' operator performs normal division and returns a floating-point result.\n",
    "\n",
    "result = 5 / 2\n",
    "print(result)  \n"
   ]
  },
  {
   "cell_type": "code",
   "execution_count": 16,
   "id": "77cf2422",
   "metadata": {},
   "outputs": [
    {
     "name": "stdout",
     "output_type": "stream",
     "text": [
      "2\n"
     ]
    }
   ],
   "source": [
    "#On the other hand, the // operator performs floor division or integer division. \n",
    "result = 5 // 2\n",
    "print(result)  \n"
   ]
  },
  {
   "cell_type": "code",
   "execution_count": 17,
   "id": "8ddd6ca2",
   "metadata": {},
   "outputs": [
    {
     "name": "stdout",
     "output_type": "stream",
     "text": [
      "8\n"
     ]
    }
   ],
   "source": [
    "#The ** operator is used for exponentiation\n",
    "result = 2 ** 3\n",
    "print(result)  \n"
   ]
  },
  {
   "cell_type": "code",
   "execution_count": 18,
   "id": "6196f137",
   "metadata": {},
   "outputs": [
    {
     "name": "stdout",
     "output_type": "stream",
     "text": [
      "6\n"
     ]
    }
   ],
   "source": [
    "# the ^ operator is the bitwise XOR (exclusive OR) operator.\n",
    "\n",
    "result = 5 ^ 3\n",
    "print(result) \n"
   ]
  },
  {
   "cell_type": "markdown",
   "id": "a5116fb8",
   "metadata": {},
   "source": [
    "Question 3\n",
    "\n",
    "and: The and operator returns True if both operands are true.\n",
    "or: The or operator returns True if at least one of the operands is true.\n",
    "not: The not operator returns the opposite boolean value of the operand\n",
    "    "
   ]
  },
  {
   "cell_type": "code",
   "execution_count": 4,
   "id": "38e5777d",
   "metadata": {},
   "outputs": [
    {
     "name": "stdout",
     "output_type": "stream",
     "text": [
      "2\n"
     ]
    }
   ],
   "source": [
    "#Question 4\n",
    "\n",
    "#The right shift (>>) and left shift (<<) operators are bitwise operators in Python that perform shifting operations on binary representations of integers\n",
    "\n",
    "\n",
    "# Right shift example\n",
    "num = 8  \n",
    "\n",
    "\n",
    "result = num >> 2  \n",
    "print(result)  \n",
    "\n",
    "\n"
   ]
  },
  {
   "cell_type": "code",
   "execution_count": 5,
   "id": "8deb725b",
   "metadata": {},
   "outputs": [
    {
     "name": "stdout",
     "output_type": "stream",
     "text": [
      "12\n"
     ]
    }
   ],
   "source": [
    "# Left shift example\n",
    "num = 3  \n",
    "\n",
    "\n",
    "result = num << 2  \n",
    "print(result)  \n"
   ]
  },
  {
   "cell_type": "code",
   "execution_count": 13,
   "id": "a142c18f",
   "metadata": {},
   "outputs": [],
   "source": [
    "#Question 5\n",
    "\n",
    "l =[11,12,10,56,23,76,2,1,5,6,8,9,25,15,3]"
   ]
  },
  {
   "cell_type": "code",
   "execution_count": 14,
   "id": "19d05fcc",
   "metadata": {},
   "outputs": [
    {
     "name": "stdout",
     "output_type": "stream",
     "text": [
      "10\n"
     ]
    }
   ],
   "source": [
    "for i in l:\n",
    "    if i == 10:\n",
    "        print(i)\n",
    "        \n",
    "   "
   ]
  }
 ],
 "metadata": {
  "kernelspec": {
   "display_name": "Python 3 (ipykernel)",
   "language": "python",
   "name": "python3"
  },
  "language_info": {
   "codemirror_mode": {
    "name": "ipython",
    "version": 3
   },
   "file_extension": ".py",
   "mimetype": "text/x-python",
   "name": "python",
   "nbconvert_exporter": "python",
   "pygments_lexer": "ipython3",
   "version": "3.10.9"
  }
 },
 "nbformat": 4,
 "nbformat_minor": 5
}
