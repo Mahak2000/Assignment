{
 "cells": [
  {
   "cell_type": "code",
   "execution_count": 1,
   "id": "fbc8ef38",
   "metadata": {},
   "outputs": [
    {
     "name": "stdout",
     "output_type": "stream",
     "text": [
      "['False', 'None', 'True', 'and', 'as', 'assert', 'async', 'await', 'break', 'class', 'continue', 'def', 'del', 'elif', 'else', 'except', 'finally', 'for', 'from', 'global', 'if', 'import', 'in', 'is', 'lambda', 'nonlocal', 'not', 'or', 'pass', 'raise', 'return', 'try', 'while', 'with', 'yield']\n"
     ]
    }
   ],
   "source": [
    "#Question1\n",
    "\n",
    "#Keywords in Python are reserved words that have predefined meanings and cannot be used as variable names or identifiers. These keywords are part of the Python language syntax and serve specific purposes in the code.\n",
    "\n",
    "import keyword\n",
    "\n",
    "all_keywords = keyword.kwlist\n",
    "print(all_keywords)\n"
   ]
  },
  {
   "cell_type": "markdown",
   "id": "69c08e00",
   "metadata": {},
   "source": [
    "Question 2\n",
    "\n",
    "1.We cannnot use reserved keywords to create variables\n",
    "2.Python is a case sensitive language which means upper and lower case letters in python means diffrent.\n",
    "3.A variable name should not start from a digit.\n",
    "4.Variables are created and assigned values using the assignment operator (=)."
   ]
  },
  {
   "cell_type": "markdown",
   "id": "49d84216",
   "metadata": {},
   "source": [
    "Question 3\n",
    "\n",
    "1.Choose variable names that accurately describe the purpose or content of the variable.\n",
    "2.Use lowercase letters for variable names.\n",
    "3.Separate words with underscores (_) to improve readability.\n",
    "4.Do not use reserved keywords (e.g., if, for, while) as variable names."
   ]
  },
  {
   "cell_type": "markdown",
   "id": "9b6b8f05",
   "metadata": {},
   "source": [
    "Question 4\n",
    "\n",
    "Using reserved keywords can lead to syntax errors and make the code harder to understand."
   ]
  },
  {
   "cell_type": "markdown",
   "id": "740cae2a",
   "metadata": {},
   "source": [
    "Question 5\n",
    "\n",
    "In Python, the def keyword is used to define a function. It is followed by the function name, parentheses, and a colon. The def keyword is used to introduce a function and specify its name. "
   ]
  },
  {
   "cell_type": "markdown",
   "id": "fad26078",
   "metadata": {},
   "source": [
    "Question 6\n",
    "\n",
    "Escape sequences: The backslash is used to create escape sequences, which are special character combinations used to represent certain characters that cannot be typed directly.\n",
    "\n",
    "Line continuation: The backslash can be used to continue a single logical line of code across multiple physical lines. It is often used when a line of code is too long to fit in a single line. \n",
    "\n",
    "Raw strings: By using the r prefix before a string literal, the backslash loses its special meaning and is treated as a literal character. \n",
    "\n",
    "Regular expressions: The backslash is used in regular expressions to escape special characters and indicate special matching patterns. "
   ]
  },
  {
   "cell_type": "code",
   "execution_count": null,
   "id": "989a35fc",
   "metadata": {},
   "outputs": [],
   "source": []
  },
  {
   "cell_type": "code",
   "execution_count": null,
   "id": "a7487b27",
   "metadata": {},
   "outputs": [],
   "source": []
  },
  {
   "cell_type": "code",
   "execution_count": 6,
   "id": "c0a04e22",
   "metadata": {},
   "outputs": [
    {
     "name": "stdout",
     "output_type": "stream",
     "text": [
      "    *\n",
      "   ***\n",
      "  *****\n",
      " *******\n",
      "*********\n"
     ]
    }
   ],
   "source": [
    "#Question 9\n",
    "\n",
    "rows = 5  \n",
    "\n",
    "for i in range(rows):\n",
    "    for j in range(rows - i - 1):\n",
    "        print(\" \", end=\"\")\n",
    "    for k in range(2 * i + 1):\n",
    "        print(\"*\", end=\"\")\n",
    "    print()\n"
   ]
  },
  {
   "cell_type": "code",
   "execution_count": 8,
   "id": "7d334feb",
   "metadata": {},
   "outputs": [
    {
     "name": "stdout",
     "output_type": "stream",
     "text": [
      "|||||||\n",
      " |||||\n",
      "  |||\n",
      "   |\n"
     ]
    }
   ],
   "source": [
    "#Question 10\n",
    "\n",
    "rows = 4\n",
    "\n",
    "i = 0\n",
    "while i < rows:\n",
    "    j = 0\n",
    "    while j < i:\n",
    "        print(\" \", end=\"\")\n",
    "        j += 1\n",
    "    k = 0\n",
    "    while k < (2 * (rows - i) - 1):\n",
    "        print(\"|\", end=\"\")\n",
    "        k += 1\n",
    "    print()\n",
    "    i += 1\n"
   ]
  },
  {
   "cell_type": "code",
   "execution_count": null,
   "id": "191699c8",
   "metadata": {},
   "outputs": [],
   "source": []
  }
 ],
 "metadata": {
  "kernelspec": {
   "display_name": "Python 3 (ipykernel)",
   "language": "python",
   "name": "python3"
  },
  "language_info": {
   "codemirror_mode": {
    "name": "ipython",
    "version": 3
   },
   "file_extension": ".py",
   "mimetype": "text/x-python",
   "name": "python",
   "nbconvert_exporter": "python",
   "pygments_lexer": "ipython3",
   "version": "3.10.9"
  }
 },
 "nbformat": 4,
 "nbformat_minor": 5
}
