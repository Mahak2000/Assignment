{
 "cells": [
  {
   "cell_type": "markdown",
   "id": "b404ff81",
   "metadata": {},
   "source": [
    "Question 1\n",
    "\n",
    "* = Expression\n",
    "\n",
    "'hello' = Value\n",
    "\n",
    "-87.8 = Value\n",
    "\n",
    "- = Expression\n",
    "\n",
    "/ = Expression\n",
    "\n",
    "+ = Expression\n",
    "\n",
    "6 = Value"
   ]
  },
  {
   "cell_type": "markdown",
   "id": "97ad2a99",
   "metadata": {},
   "source": [
    "Question 2\n",
    "\n",
    "A string is a data type and it is used to store textual data on the other hand a variable can hold various types of data in it."
   ]
  },
  {
   "cell_type": "markdown",
   "id": "852e1b80",
   "metadata": {},
   "source": [
    "Question 3\n",
    "\n",
    "String : strings are used to store textual data and is enclosed in a quotation marks single,double or triple. Example - 'Hello'\n",
    "\n",
    "Integer: It represents whole numbers without fractional or decimal part. Example - 3 ,69, -1\n",
    "\n",
    "Boolean: it represents logical values which are either True or False. Booleans are useful for conditions and comparisons."
   ]
  },
  {
   "cell_type": "markdown",
   "id": "d54b923f",
   "metadata": {},
   "source": [
    "Question 4\n",
    "\n",
    "An expression is made up one or more operands and operators. \n",
    "It can perform calculations, evaluate conditions , assign values. The main purpose is to produce a value.\n",
    "Eample :\n",
    "a = b+c\n",
    "Here b+c is an expression."
   ]
  },
  {
   "cell_type": "markdown",
   "id": "be95b5c6",
   "metadata": {},
   "source": [
    "Question 5\n",
    "\n",
    " An expression is a combination of values, operands, operators, and function that evaluates to a single value as a result.\n",
    " Whereas spam = 10 is an assignment statement that assigns the value 10 to the variable spam. The statement does not produce a value, its purpose is to change the state of the program by assigning a value to a variable."
   ]
  },
  {
   "cell_type": "code",
   "execution_count": 1,
   "id": "39e682a6",
   "metadata": {},
   "outputs": [
    {
     "data": {
      "text/plain": [
       "23"
      ]
     },
     "execution_count": 1,
     "metadata": {},
     "output_type": "execute_result"
    }
   ],
   "source": [
    "#Question 6\n",
    "\n",
    "bacon = 22\n",
    "bacon + 1"
   ]
  },
  {
   "cell_type": "code",
   "execution_count": 2,
   "id": "79522165",
   "metadata": {},
   "outputs": [
    {
     "data": {
      "text/plain": [
       "'spamspamspam'"
      ]
     },
     "execution_count": 2,
     "metadata": {},
     "output_type": "execute_result"
    }
   ],
   "source": [
    "#Question 7\n",
    "\n",
    "'spam'+'spamspam'\n",
    "'spam' *3"
   ]
  },
  {
   "cell_type": "markdown",
   "id": "6aaebf4e",
   "metadata": {},
   "source": [
    "Question 8\n",
    "\n",
    "Egg is a valid variable name because it starts with an alphabetical letter whereas 100 is invalid because it starts with a numeric number which is not allowed by python."
   ]
  },
  {
   "cell_type": "markdown",
   "id": "ff2334b1",
   "metadata": {},
   "source": [
    "Question 9\n",
    "\n",
    "Integer number : int()\n",
    "string number : str() \n",
    "Floating number: float()    "
   ]
  },
  {
   "cell_type": "code",
   "execution_count": 6,
   "id": "0bb3039d",
   "metadata": {},
   "outputs": [
    {
     "data": {
      "text/plain": [
       "'I have eaten 99 burritos.'"
      ]
     },
     "execution_count": 6,
     "metadata": {},
     "output_type": "execute_result"
    }
   ],
   "source": [
    "#Question 10\n",
    "\n",
    "'I have eaten' +' '+ str(99) +' ' +  'burritos.'"
   ]
  },
  {
   "cell_type": "code",
   "execution_count": null,
   "id": "b538c878",
   "metadata": {},
   "outputs": [],
   "source": []
  }
 ],
 "metadata": {
  "kernelspec": {
   "display_name": "Python 3 (ipykernel)",
   "language": "python",
   "name": "python3"
  },
  "language_info": {
   "codemirror_mode": {
    "name": "ipython",
    "version": 3
   },
   "file_extension": ".py",
   "mimetype": "text/x-python",
   "name": "python",
   "nbconvert_exporter": "python",
   "pygments_lexer": "ipython3",
   "version": "3.10.9"
  }
 },
 "nbformat": 4,
 "nbformat_minor": 5
}
